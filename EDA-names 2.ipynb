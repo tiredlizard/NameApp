{
 "cells": [
  {
   "cell_type": "code",
   "execution_count": null,
   "id": "6a65e26d",
   "metadata": {},
   "outputs": [],
   "source": []
  },
  {
   "cell_type": "code",
   "execution_count": 2,
   "id": "b990d649",
   "metadata": {},
   "outputs": [],
   "source": [
    "import numpy as np\n",
    "import pandas as pd\n",
    "import zipfile\n",
    "import plotly.express as px\n",
    "import matplotlib.pyplot as plt\n",
    "import requests\n",
    "from io import BytesIO\n",
    "import plotly.graph_objects as go\n",
    "from plotly.subplots import make_subplots"
   ]
  },
  {
   "cell_type": "code",
   "execution_count": 3,
   "id": "ae4cb5fa",
   "metadata": {},
   "outputs": [],
   "source": [
    "from my_plots import *"
   ]
  },
  {
   "cell_type": "markdown",
   "metadata": {},
   "source": [
    "---\n",
    "\n",
    "## National Names\n",
    "\n",
    "You can find popular baby names data from the [Social Security webpage](https://www.ssa.gov/oact/babynames/limits.html).  The code below does not require you to download the data first. "
   ]
  },
  {
   "cell_type": "code",
   "execution_count": 3,
   "metadata": {},
   "outputs": [],
   "source": [
    "# # This is a smaller file with only the most popular names\n",
    "# url = 'https://github.com/esnt/Data/raw/main/Names/popular_names.csv'\n",
    "# data = pd.read_csv(url)\n",
    "# data.columns = ['name','sex','count','year']\n",
    "# data['pct'] = data['count'] / data.groupby(['year', 'sex'])['count'].transform('sum')\n",
    "\n",
    "# This is a larger file with all names\n",
    "def load_name_data():\n",
    "    names_file = 'https://www.ssa.gov/oact/babynames/names.zip'\n",
    "    response = requests.get(names_file)\n",
    "    with zipfile.ZipFile(BytesIO(response.content)) as z:\n",
    "        dfs = []\n",
    "        files = [file for file in z.namelist() if file.endswith('.txt')]\n",
    "        for file in files:\n",
    "            with z.open(file) as f:\n",
    "                df = pd.read_csv(f, header=None)\n",
    "                df.columns = ['name','sex','count']\n",
    "                df['year'] = int(file[3:7])\n",
    "                dfs.append(df)\n",
    "        data = pd.concat(dfs, ignore_index=True)\n",
    "    data['pct'] = data['count'] / data.groupby(['year', 'sex'])['count'].transform('sum')\n",
    "    return data\n",
    "data = load_name_data()"
   ]
  },
  {
   "cell_type": "code",
   "execution_count": 4,
   "id": "d2caf07f",
   "metadata": {},
   "outputs": [],
   "source": [
    "def ohw(df):\n",
    "    nunique_year = df.groupby(['name', 'sex'])['year'].nunique()\n",
    "    one_hit_wonders = nunique_year[nunique_year == 1].index\n",
    "    one_hit_wonder_data = df.set_index(['name', 'sex']).loc[one_hit_wonders].reset_index()\n",
    "    return one_hit_wonder_data"
   ]
  },
  {
   "cell_type": "code",
   "execution_count": 5,
   "id": "6bf9c8dc",
   "metadata": {},
   "outputs": [],
   "source": [
    "ohw_data = ohw(data)"
   ]
  },
  {
   "cell_type": "code",
   "execution_count": null,
   "id": "7719c84e",
   "metadata": {},
   "outputs": [],
   "source": [
    "data.head(2)"
   ]
  },
  {
   "cell_type": "code",
   "execution_count": null,
   "id": "ad4dd79e",
   "metadata": {},
   "outputs": [],
   "source": [
    "data.shape"
   ]
  },
  {
   "cell_type": "markdown",
   "id": "c1df5aff",
   "metadata": {},
   "source": [
    "## Year\n",
    "\n",
    "Pick a year"
   ]
  },
  {
   "cell_type": "code",
   "execution_count": 6,
   "id": "1fe97cf9",
   "metadata": {},
   "outputs": [
    {
     "ename": "NameError",
     "evalue": "name 'data' is not defined",
     "output_type": "error",
     "traceback": [
      "\u001b[0;31m---------------------------------------------------------------------------\u001b[0m",
      "\u001b[0;31mNameError\u001b[0m                                 Traceback (most recent call last)",
      "Cell \u001b[0;32mIn[6], line 1\u001b[0m\n\u001b[0;32m----> 1\u001b[0m fig \u001b[38;5;241m=\u001b[39m top_names_plot(data, n\u001b[38;5;241m=\u001b[39m\u001b[38;5;241m5\u001b[39m, year\u001b[38;5;241m=\u001b[39m\u001b[38;5;241m1977\u001b[39m)\n\u001b[1;32m      2\u001b[0m fig\u001b[38;5;241m.\u001b[39mshow()\n",
      "\u001b[0;31mNameError\u001b[0m: name 'data' is not defined"
     ]
    }
   ],
   "source": [
    "fig = top_names_plot(data, n=5, year=1977)\n",
    "fig.show()"
   ]
  },
  {
   "cell_type": "code",
   "execution_count": null,
   "id": "206c307d",
   "metadata": {},
   "outputs": [],
   "source": [
    "## Pick year and variable (count or pct)\n",
    "\n",
    "input_year = 1977\n",
    "variable = 'pct'\n",
    "year_data = data[data['year'] == input_year].copy()"
   ]
  },
  {
   "cell_type": "code",
   "execution_count": null,
   "id": "956ef2f5",
   "metadata": {},
   "outputs": [],
   "source": [
    "print(unique_names_summary(data, 1977))"
   ]
  },
  {
   "cell_type": "code",
   "execution_count": null,
   "id": "55e750a1",
   "metadata": {},
   "outputs": [],
   "source": [
    "fig = name_frequencies_plot(data, year=1977)\n",
    "fig.show()"
   ]
  },
  {
   "cell_type": "code",
   "execution_count": null,
   "id": "39ff9ece",
   "metadata": {},
   "outputs": [
    {
     "name": "stdout",
     "output_type": "stream",
     "text": [
      "Summary of One-Hit Wonders in 1977:\n",
      "Number of female one-hit wonders: 168\n",
      "Number of male one-hit wonders: 92\n",
      "Most common female one-hit wonder: Kashka with 16 occurrences\n",
      "Most common male one-hit wonder: Ebay with 12 occurrences\n"
     ]
    }
   ],
   "source": [
    "one_hit_wonders(ohw_data, year=1977)"
   ]
  },
  {
   "cell_type": "code",
   "execution_count": null,
   "id": "882c1845",
   "metadata": {},
   "outputs": [],
   "source": []
  },
  {
   "cell_type": "code",
   "execution_count": null,
   "id": "3fed6568",
   "metadata": {},
   "outputs": [
    {
     "name": "stdout",
     "output_type": "stream",
     "text": [
      "Summary of One-Hit Wonders in 2000:\n",
      "Number of female one-hit wonders: 235\n",
      "Number of male one-hit wonders: 171\n",
      "Most common female one-hit wonder: Jadakiss with 13 occurrences\n",
      "Most common male one-hit wonder: Zaykeese with 13 occurrences\n"
     ]
    }
   ],
   "source": [
    "one_hit_wonders(ohw_data, 2000)"
   ]
  },
  {
   "cell_type": "code",
   "execution_count": null,
   "id": "ce8065d5",
   "metadata": {},
   "outputs": [],
   "source": [
    "\n",
    "input_year = 2011\n",
    "# Print summary of the number of and the most common one-hit wonders for that year\n",
    "ohw_year = one_hit_wonder_data[one_hit_wonder_data['year']==input_year]\n",
    "if ohw_year.empty:\n",
    "    print(f\"No one-hit wonders found in {input_year}\")\n",
    "else:\n",
    "    one_hit_wonder_counts = ohw_year['sex'].value_counts()\n",
    "    common_one_hit_wonders = ohw_year.groupby(['name', 'sex'])['count'].sum().reset_index()\n",
    "\n",
    "    try:\n",
    "    # Sort to find the most common one-hit wonder for each sex\n",
    "        most_common_female = common_one_hit_wonders[common_one_hit_wonders['sex'] == 'F'].sort_values(by='count', ascending=False).iloc[0]\n",
    "        most_common_male = common_one_hit_wonders[common_one_hit_wonders['sex'] == 'M'].sort_values(by='count', ascending=False).iloc[0]\n",
    "\n",
    "        print(f\"Summary of One-Hit Wonders in {input_year}:\")\n",
    "        print(f\"Number of female one-hit wonders: {one_hit_wonder_counts.get('F', 0)}\")\n",
    "        print(f\"Number of male one-hit wonders: {one_hit_wonder_counts.get('M', 0)}\")\n",
    "\n",
    "        print(f\"Most common female one-hit wonder: {most_common_female['name']} with {most_common_female['count']} occurrences\")\n",
    "        print(f\"Most common male one-hit wonder: {most_common_male['name']} with {most_common_male['count']} occurrences\")\n",
    "    except:\n",
    "        print(\"not enough data\")"
   ]
  },
  {
   "cell_type": "code",
   "execution_count": null,
   "id": "47996e71",
   "metadata": {},
   "outputs": [],
   "source": []
  },
  {
   "cell_type": "markdown",
   "id": "0fbf9117",
   "metadata": {},
   "source": [
    "## Sex-balance of names"
   ]
  },
  {
   "cell_type": "code",
   "execution_count": null,
   "id": "34f0ab15",
   "metadata": {},
   "outputs": [],
   "source": [
    "fig = name_trend_plot(data, 'Taylor')\n",
    "fig.show()"
   ]
  },
  {
   "cell_type": "code",
   "execution_count": null,
   "id": "acc80d82",
   "metadata": {},
   "outputs": [],
   "source": [
    "fig = name_sex_balance_plot(data, 'Taylor')"
   ]
  },
  {
   "cell_type": "code",
   "execution_count": null,
   "id": "eb8556fd",
   "metadata": {},
   "outputs": [],
   "source": []
  },
  {
   "cell_type": "code",
   "execution_count": null,
   "id": "d646c1d4",
   "metadata": {},
   "outputs": [],
   "source": []
  },
  {
   "cell_type": "code",
   "execution_count": null,
   "id": "d9c4d10b",
   "metadata": {},
   "outputs": [],
   "source": []
  },
  {
   "cell_type": "code",
   "execution_count": null,
   "id": "6422400e",
   "metadata": {},
   "outputs": [],
   "source": []
  },
  {
   "cell_type": "code",
   "execution_count": null,
   "id": "74e4378b",
   "metadata": {},
   "outputs": [],
   "source": []
  }
 ],
 "metadata": {
  "kernelspec": {
   "display_name": "stat386",
   "language": "python",
   "name": "python3"
  },
  "language_info": {
   "codemirror_mode": {
    "name": "ipython",
    "version": 3
   },
   "file_extension": ".py",
   "mimetype": "text/x-python",
   "name": "python",
   "nbconvert_exporter": "python",
   "pygments_lexer": "ipython3",
   "version": "3.12.5"
  }
 },
 "nbformat": 4,
 "nbformat_minor": 5
}
